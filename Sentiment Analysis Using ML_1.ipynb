{
 "cells": [
  {
   "cell_type": "markdown",
   "metadata": {},
   "source": [
    "# Sentiment Analysis Of Reviews"
   ]
  },
  {
   "cell_type": "code",
   "execution_count": 4,
   "metadata": {},
   "outputs": [],
   "source": [
    "# Loading the dataset\n",
    "import pandas as pd"
   ]
  },
  {
   "cell_type": "code",
   "execution_count": 5,
   "metadata": {},
   "outputs": [],
   "source": [
    "df_yelp = pd.read_table(\"yelp.txt\")\n",
    "df_amazon = pd.read_table(\"amazon.txt\")\n",
    "df_imdb = pd.read_table(\"imdb.txt\")"
   ]
  },
  {
   "cell_type": "code",
   "execution_count": 6,
   "metadata": {},
   "outputs": [],
   "source": [
    "frames = [df_yelp, df_amazon, df_imdb ]"
   ]
  },
  {
   "cell_type": "code",
   "execution_count": 7,
   "metadata": {},
   "outputs": [],
   "source": [
    "for col_name in frames:\n",
    "    col_name.columns = [\"Message\", \"Target\"]"
   ]
  },
  {
   "cell_type": "code",
   "execution_count": 8,
   "metadata": {},
   "outputs": [
    {
     "name": "stdout",
     "output_type": "stream",
     "text": [
      "Index(['Message', 'Target'], dtype='object')\n",
      "Index(['Message', 'Target'], dtype='object')\n",
      "Index(['Message', 'Target'], dtype='object')\n"
     ]
    }
   ],
   "source": [
    "for col_name in frames:\n",
    "    print(col_name.columns)"
   ]
  },
  {
   "cell_type": "code",
   "execution_count": 9,
   "metadata": {},
   "outputs": [],
   "source": [
    "ind_key = [\"YELP\",\"AMAZON\",\"IMDB\"]"
   ]
  },
  {
   "cell_type": "code",
   "execution_count": 10,
   "metadata": {},
   "outputs": [],
   "source": [
    "df = pd.concat(frames, keys=ind_key)"
   ]
  },
  {
   "cell_type": "code",
   "execution_count": 11,
   "metadata": {},
   "outputs": [
    {
     "data": {
      "text/plain": [
       "(2745, 2)"
      ]
     },
     "execution_count": 11,
     "metadata": {},
     "output_type": "execute_result"
    }
   ],
   "source": [
    "df.shape"
   ]
  },
  {
   "cell_type": "code",
   "execution_count": 12,
   "metadata": {},
   "outputs": [
    {
     "data": {
      "text/html": [
       "<div>\n",
       "<style scoped>\n",
       "    .dataframe tbody tr th:only-of-type {\n",
       "        vertical-align: middle;\n",
       "    }\n",
       "\n",
       "    .dataframe tbody tr th {\n",
       "        vertical-align: top;\n",
       "    }\n",
       "\n",
       "    .dataframe thead th {\n",
       "        text-align: right;\n",
       "    }\n",
       "</style>\n",
       "<table border=\"1\" class=\"dataframe\">\n",
       "  <thead>\n",
       "    <tr style=\"text-align: right;\">\n",
       "      <th></th>\n",
       "      <th></th>\n",
       "      <th>Message</th>\n",
       "      <th>Target</th>\n",
       "    </tr>\n",
       "  </thead>\n",
       "  <tbody>\n",
       "    <tr>\n",
       "      <th rowspan=\"5\" valign=\"top\">YELP</th>\n",
       "      <th>0</th>\n",
       "      <td>Crust is not good.</td>\n",
       "      <td>0</td>\n",
       "    </tr>\n",
       "    <tr>\n",
       "      <th>1</th>\n",
       "      <td>Not tasty and the texture was just nasty.</td>\n",
       "      <td>0</td>\n",
       "    </tr>\n",
       "    <tr>\n",
       "      <th>2</th>\n",
       "      <td>Stopped by during the late May bank holiday of...</td>\n",
       "      <td>1</td>\n",
       "    </tr>\n",
       "    <tr>\n",
       "      <th>3</th>\n",
       "      <td>The selection on the menu was great and so wer...</td>\n",
       "      <td>1</td>\n",
       "    </tr>\n",
       "    <tr>\n",
       "      <th>4</th>\n",
       "      <td>Now I am getting angry and I want my damn pho.</td>\n",
       "      <td>0</td>\n",
       "    </tr>\n",
       "  </tbody>\n",
       "</table>\n",
       "</div>"
      ],
      "text/plain": [
       "                                                  Message  Target\n",
       "YELP 0                                 Crust is not good.       0\n",
       "     1          Not tasty and the texture was just nasty.       0\n",
       "     2  Stopped by during the late May bank holiday of...       1\n",
       "     3  The selection on the menu was great and so wer...       1\n",
       "     4     Now I am getting angry and I want my damn pho.       0"
      ]
     },
     "execution_count": 12,
     "metadata": {},
     "output_type": "execute_result"
    }
   ],
   "source": [
    "df.head()"
   ]
  },
  {
   "cell_type": "code",
   "execution_count": 13,
   "metadata": {},
   "outputs": [
    {
     "data": {
      "text/html": [
       "<div>\n",
       "<style scoped>\n",
       "    .dataframe tbody tr th:only-of-type {\n",
       "        vertical-align: middle;\n",
       "    }\n",
       "\n",
       "    .dataframe tbody tr th {\n",
       "        vertical-align: top;\n",
       "    }\n",
       "\n",
       "    .dataframe thead th {\n",
       "        text-align: right;\n",
       "    }\n",
       "</style>\n",
       "<table border=\"1\" class=\"dataframe\">\n",
       "  <thead>\n",
       "    <tr style=\"text-align: right;\">\n",
       "      <th></th>\n",
       "      <th></th>\n",
       "      <th>Message</th>\n",
       "      <th>Target</th>\n",
       "    </tr>\n",
       "  </thead>\n",
       "  <tbody>\n",
       "    <tr>\n",
       "      <th rowspan=\"5\" valign=\"top\">IMDB</th>\n",
       "      <th>742</th>\n",
       "      <td>I just got bored watching Jessice Lange take h...</td>\n",
       "      <td>0</td>\n",
       "    </tr>\n",
       "    <tr>\n",
       "      <th>743</th>\n",
       "      <td>Unfortunately, any virtue in this film's produ...</td>\n",
       "      <td>0</td>\n",
       "    </tr>\n",
       "    <tr>\n",
       "      <th>744</th>\n",
       "      <td>In a word, it is embarrassing.</td>\n",
       "      <td>0</td>\n",
       "    </tr>\n",
       "    <tr>\n",
       "      <th>745</th>\n",
       "      <td>Exceptionally bad!</td>\n",
       "      <td>0</td>\n",
       "    </tr>\n",
       "    <tr>\n",
       "      <th>746</th>\n",
       "      <td>All in all its an insult to one's intelligence...</td>\n",
       "      <td>0</td>\n",
       "    </tr>\n",
       "  </tbody>\n",
       "</table>\n",
       "</div>"
      ],
      "text/plain": [
       "                                                    Message  Target\n",
       "IMDB 742  I just got bored watching Jessice Lange take h...       0\n",
       "     743  Unfortunately, any virtue in this film's produ...       0\n",
       "     744                   In a word, it is embarrassing.         0\n",
       "     745                               Exceptionally bad!         0\n",
       "     746  All in all its an insult to one's intelligence...       0"
      ]
     },
     "execution_count": 13,
     "metadata": {},
     "output_type": "execute_result"
    }
   ],
   "source": [
    "df.tail()"
   ]
  },
  {
   "cell_type": "code",
   "execution_count": 14,
   "metadata": {},
   "outputs": [
    {
     "data": {
      "text/plain": [
       "Message    0\n",
       "Target     0\n",
       "dtype: int64"
      ]
     },
     "execution_count": 14,
     "metadata": {},
     "output_type": "execute_result"
    }
   ],
   "source": [
    "df.isnull().sum()"
   ]
  },
  {
   "cell_type": "markdown",
   "metadata": {},
   "source": [
    "# Spacy Operations "
   ]
  },
  {
   "cell_type": "code",
   "execution_count": 15,
   "metadata": {},
   "outputs": [],
   "source": [
    "import spacy\n",
    "nlp = spacy.load('en')"
   ]
  },
  {
   "cell_type": "code",
   "execution_count": 16,
   "metadata": {},
   "outputs": [],
   "source": [
    "from spacy.lang.en import STOP_WORDS\n",
    "stopwords = list(STOP_WORDS)"
   ]
  },
  {
   "cell_type": "code",
   "execution_count": 17,
   "metadata": {},
   "outputs": [],
   "source": [
    "import string\n",
    "punctuations = string.punctuation"
   ]
  },
  {
   "cell_type": "code",
   "execution_count": 18,
   "metadata": {},
   "outputs": [],
   "source": [
    "from spacy.lang.en import English\n",
    "parser = English()"
   ]
  },
  {
   "cell_type": "code",
   "execution_count": 19,
   "metadata": {},
   "outputs": [],
   "source": [
    "def spacy_tokenizer(sentence):\n",
    "    my_token= parser(sentence)\n",
    "    my_token = [word.lemma_.lower().strip() if word.lemma_ != \"PRON\" else word.lower_ for word in my_token ]\n",
    "    my_token = [word for word in my_token if word not in stopwords and word not in punctuations ]\n",
    "    return my_token"
   ]
  },
  {
   "cell_type": "markdown",
   "metadata": {},
   "source": [
    "#  Using ML"
   ]
  },
  {
   "cell_type": "code",
   "execution_count": 20,
   "metadata": {},
   "outputs": [],
   "source": [
    "# ML Packages\n",
    "from sklearn.feature_extraction.text import CountVectorizer,TfidfVectorizer\n",
    "from sklearn.metrics import accuracy_score \n",
    "from sklearn.base import TransformerMixin \n",
    "from sklearn.pipeline import Pipeline\n",
    "from sklearn.svm import LinearSVC"
   ]
  },
  {
   "cell_type": "code",
   "execution_count": 21,
   "metadata": {},
   "outputs": [],
   "source": [
    "# Custom transformer using spacy\n",
    "class predictors(TransformerMixin):\n",
    "    def transform(self, X, **transform_params):\n",
    "        return [clean_text(text) for text in X ]\n",
    "    def fit(self, X, y=None , **fit_params):\n",
    "        return self\n",
    "    def get_params(self, deep= True):\n",
    "        return{}\n",
    "    \n",
    "# Function for text cleaning: - \n",
    "def clean_text(text):\n",
    "    return text.strip().lower()"
   ]
  },
  {
   "cell_type": "code",
   "execution_count": 22,
   "metadata": {},
   "outputs": [],
   "source": [
    "# Vectorization\n",
    "vectorizer = CountVectorizer(tokenizer = spacy_tokenizer, ngram_range=(1,1))\n",
    "classifier = LinearSVC()"
   ]
  },
  {
   "cell_type": "code",
   "execution_count": 23,
   "metadata": {},
   "outputs": [],
   "source": [
    "#Using Tfdif\n",
    "tfvectorizer = TfidfVectorizer(tokenizer = spacy_tokenizer)"
   ]
  },
  {
   "cell_type": "code",
   "execution_count": 24,
   "metadata": {},
   "outputs": [],
   "source": [
    "from sklearn.model_selection import train_test_split"
   ]
  },
  {
   "cell_type": "code",
   "execution_count": 25,
   "metadata": {},
   "outputs": [],
   "source": [
    "X=df[\"Message\"]\n",
    "ylabels= df[\"Target\"]"
   ]
  },
  {
   "cell_type": "code",
   "execution_count": 26,
   "metadata": {},
   "outputs": [],
   "source": [
    "X_train, X_test, y_train , y_test = train_test_split(X,ylabels, test_size=0.2, random_state = 42)"
   ]
  },
  {
   "cell_type": "code",
   "execution_count": 27,
   "metadata": {},
   "outputs": [],
   "source": [
    "#Create a pipeline to clean\n",
    "pipe = Pipeline([(\"cleaner\",predictors()),\n",
    "                (\"vectorizer\", vectorizer),\n",
    "                (\"classifier\", classifier)])"
   ]
  },
  {
   "cell_type": "code",
   "execution_count": 28,
   "metadata": {},
   "outputs": [
    {
     "data": {
      "text/plain": [
       "Pipeline(memory=None,\n",
       "     steps=[('cleaner', <__main__.predictors object at 0x0000021CB4381E48>), ('vectorizer', CountVectorizer(analyzer='word', binary=False, decode_error='strict',\n",
       "        dtype=<class 'numpy.int64'>, encoding='utf-8', input='content',\n",
       "        lowercase=True, max_df=1.0, max_features=None, min_df=1,\n",
       "      ...ax_iter=1000,\n",
       "     multi_class='ovr', penalty='l2', random_state=None, tol=0.0001,\n",
       "     verbose=0))])"
      ]
     },
     "execution_count": 28,
     "metadata": {},
     "output_type": "execute_result"
    }
   ],
   "source": [
    "pipe.fit(X_train, y_train)"
   ]
  },
  {
   "cell_type": "code",
   "execution_count": 29,
   "metadata": {},
   "outputs": [],
   "source": [
    "# Predicting with a dataset\n",
    "sample_prediction = pipe.predict(X_test)"
   ]
  },
  {
   "cell_type": "code",
   "execution_count": 30,
   "metadata": {},
   "outputs": [
    {
     "name": "stdout",
     "output_type": "stream",
     "text": [
      "Great pork sandwich. Prediction=> 1\n",
      "I didn't think that the instructions provided were helpful to me. Prediction=> 0\n",
      "It's close to my house, it's low-key, non-fancy, affordable prices, good food. Prediction=> 0\n",
      "Everything about this product is wrong.First Prediction=> 0\n",
      "We loved the biscuits!!! Prediction=> 1\n",
      "I don't have very many words to say about this place, but it does everything pretty well. Prediction=> 0\n",
      "I paid too much.   Prediction=> 0\n",
      "dont buy it. Prediction=> 0\n",
      "I miss it and wish they had one in Philadelphia! Prediction=> 1\n",
      "Arrived quickly and much less expensive than others being sold. Prediction=> 0\n",
      "The film has an ultra-cheap look to it.   Prediction=> 0\n",
      "What a big waste of time. Prediction=> 0\n",
      "If you see it, you should probably just leave it on the shelf.   Prediction=> 0\n",
      "what a disappointment Prediction=> 0\n",
      "The food was outstanding and the prices were very reasonable. Prediction=> 1\n",
      "It's A PIECE OF CRAP! Prediction=> 0\n",
      "Ordered an appetizer and took 40 minutes and then the pizza another 10 minutes. Prediction=> 1\n",
      "Also makes it easier to hold on to. Prediction=> 1\n",
      "They do not last forever, but is not overly expensive to replace.Easy to operate and the sound is much better than others I have tried. Prediction=> 0\n",
      "I've also had problems with the phone reading the memory card in which I always turn it on and then off again. Prediction=> 0\n",
      "It clicks into place in a way that makes you wonder how long that mechanism would last. Prediction=> 0\n",
      "A couple of months later, I returned and had an amazing meal. Prediction=> 1\n",
      "Sending it back. Prediction=> 0\n",
      "A week later after I activated it, it suddenly died. Prediction=> 0\n",
      "I wish I could enter negative values, admins?   Prediction=> 0\n",
      "It lasts less than 3o minutes, if I actually try to use the phone.My wife has the same phone with the same problem. Prediction=> 0\n",
      "The microphone also works well, but (according to people I have called) it applifies everything. Prediction=> 0\n",
      "There are many continuity errors: one other user commented on different cars in the garage, Joe's glasses...the one that got to me the most was the fact Joe's facial hair configuration seemed to change from scene to scene.   Prediction=> 0\n",
      "The music in the film is really nice too.   Prediction=> 1\n",
      "There's barely a boring moment in the film and there are plenty of humorous parts.   Prediction=> 0\n",
      "My gyro was basically lettuce only. Prediction=> 0\n",
      "I've never been more insulted or felt disrespected. Prediction=> 0\n",
      "The eargels channel the sound directly into your ear and seem to increase the sound volume and clarity. Prediction=> 0\n",
      "It is rare when a film-maker takes the time to tell a worthy moral tale with care and love that doesn't fall into the trap of being overly syrupy or over indulgent.   Prediction=> 1\n",
      "I love all the features and form factor. Prediction=> 1\n",
      "It seems completely secure, both holding on to my belt, and keeping the iPhone inside. Prediction=> 0\n",
      "I dont think I will be back for a very long time. Prediction=> 0\n",
      "I use this product in a motor control center where there is a lot of high voltage humming from the equipment, and it works great! Prediction=> 1\n",
      "Just spicy enough.. Perfect actually. Prediction=> 1\n",
      "cool phone. Prediction=> 1\n",
      "This was my first time and I can't wait until the next. Prediction=> 0\n",
      "The majority of the Logitech earbud headsets failed. Prediction=> 0\n",
      "Muddy, low quality sound, and the casing around the wire's insert was poorly super glued and slid off. Prediction=> 1\n",
      "Will order from them again! Prediction=> 0\n",
      "They had a toro tartare with a cavier that was extraordinary and I liked the thinly sliced wagyu with white truffle. Prediction=> 1\n",
      "For a product that costs as much as this one does, I expect it to work far better and with greater ease than this thing does. Prediction=> 1\n",
      "I don't each much pasta, but I love the homemade /hand made pastas and thin pizzas here. Prediction=> 1\n",
      "Considering the relations off screen between Taylor and Stanwyck, it was surprising how little chemistry there was on screen between the two of them.   Prediction=> 1\n",
      "You will leave the theater wanting to go out and dance under the stars.   Prediction=> 1\n",
      "This film offers many delights and surprises.   Prediction=> 1\n",
      "We definately enjoyed ourselves. Prediction=> 1\n",
      "I know he was a contract player with little control over his scripts, but the acting was as bad as the script.   Prediction=> 0\n",
      "Poor quality. Prediction=> 0\n",
      "The script is a big flawed mess.   Prediction=> 0\n",
      "My husband and I ate lunch here and were very disappointed with the food and service. Prediction=> 0\n",
      "I'm happy about this purchase- good quality and low price. Prediction=> 1\n",
      "But this movie really got to me.   Prediction=> 0\n",
      "Hated it.   Prediction=> 0\n",
      "The two main characters may be two of the most believable children I ever saw put on screen.   Prediction=> 0\n",
      "It is very comfortable to wear as well, which is probably the most important aspect about using a case. Prediction=> 1\n",
      "He also came back to check on us regularly, excellent service. Prediction=> 1\n",
      "Piece of trash. Prediction=> 0\n",
      "Does Not Work. Prediction=> 0\n",
      "I paid the bill but did not tip because I felt the server did a terrible job. Prediction=> 0\n",
      "Unreliable - I'm giving up. Prediction=> 0\n",
      "bad fit, way too big. Prediction=> 0\n",
      "I love the fact that everything on their menu is worth it. Prediction=> 1\n",
      "It was awesome. Prediction=> 1\n",
      "Terrible management. Prediction=> 0\n",
      "Pros:-Good camera - very nice pictures , also has cool styles like black and white, and more. Prediction=> 1\n",
      "This one just fails to create any real suspense.   Prediction=> 0\n",
      "Point your finger at any item on the menu, order it and you won't be disappointed. Prediction=> 0\n",
      "An interesting premise, and Billy Drago is always good as a dangerous nut-bag (side note: I'd love to see Drago, Stephen McHattie and Lance Hendrikson in a flick together; talk about raging cheekbones!).   Prediction=> 1\n",
      "Good value, great food, great service. Prediction=> 1\n",
      "This one wants to surf on the small wave of space movies in 1998 (Deep Impact and Armageddon), and this one fails everywhere.   Prediction=> 0\n",
      "Then I exchanged for the same phone, even that had the same problem. Prediction=> 0\n",
      "No ear loop needed, it's tiny and the sound is great. Prediction=> 1\n",
      "My friend loved the salmon tartar. Prediction=> 1\n",
      "It makes very strange ticking noises before it ends the call. Prediction=> 0\n",
      "Once your food arrives it's meh. Prediction=> 0\n",
      "You'll love it!  \t1\n",
      "This movie is BAD.  \t0\n",
      "So bad.  \t0\n",
      "The film is way too long.  \t0\n",
      "This is definitely one of the bad ones.  \t0\n",
      "The movie I received was a great quality film for it's age.  \t1\n",
      "John Wayne did an incredible job for being so young in the movie industry.  \t1\n",
      "His on screen presence shined thought even though there were other senior actors on the screen with him.  \t1\n",
      "I think that it is a must see older John Wayne film.  \t1\n",
      "I really don't see how anyone could enjoy this movie.  \t0\n",
      "I don't think I've ever seen a movie half as boring as this self-indulgent piece of junk.  \t0\n",
      "It probably would have been better if the director hadn't spent most of the movie showcasing his own art work, which really isn't that noteworthy.  \t0\n",
      "Another thing I didn't really like is when a character got punched in the face, a gallon of blood would spew forth soon after.  \t0\n",
      "Jamie Foxx absolutely IS Ray Charles.  \t1\n",
      "His performance is simply genius.  \t1\n",
      "He owns the film, just as Spacek owned Coal Miner's Daughter\" and Quaid owned \"Great Balls of Fire.   Prediction=> 1\n",
      "Waste of 13 bucks. Prediction=> 0\n",
      "How can you call yourself a steakhouse if you can't properly cook a steak, I don't understand! Prediction=> 1\n",
      "The service here leaves a lot to be desired. Prediction=> 1\n",
      "It is cheap, and it feel and look just as cheap. Prediction=> 0\n",
      "My boyfriend tried the Mediterranean Chicken Salad and fell in love. Prediction=> 1\n",
      "I guess I should have known that this place would suck, because it is inside of the Excalibur, but I didn't use my common sense. Prediction=> 0\n",
      "The service was great, even the manager came and helped with our table. Prediction=> 1\n",
      "I don't like this Nokia either. Prediction=> 0\n",
      "Essentially you can forget Microsoft's tech support. Prediction=> 0\n",
      "It has been a winner for us. Prediction=> 1\n",
      "The servers went back and forth several times, not even so much as an \"Are you being helped?\" Prediction=> 0\n",
      "Service was exceptional and food was a good as all the reviews. Prediction=> 1\n",
      "Don't be afraid of subtitles........ its worth a little aversion therapy 10/10   Prediction=> 1\n",
      "its a little geeky but i think thats its sex on toast and it rocks and oozes sex right down to its battery embedded sleek stylish leather case. Prediction=> 1\n",
      "I liked the way Dustin Hoffman's character was ready to do just about everything to stay with his son.   Prediction=> 1\n",
      "My wife had the Lobster Bisque soup which was lukewarm. Prediction=> 0\n",
      "Great phone!. Prediction=> 1\n",
      "God, and I can never get that 90 minutes back!   Prediction=> 0\n",
      "walked in and the place smelled like an old grease trap and only 2 others there eating. Prediction=> 0\n",
      "Horrible - don't waste your time and money. Prediction=> 0\n",
      "I could not understand, what kind of idiot would produce this mess in the first place not to mention several season.   Prediction=> 0\n",
      "It's as continuously beautiful to look at as a Bertolucci, but the relationships here are more convincing and the narrative more engaging than some of that master's work.   Prediction=> 1\n",
      "Unfortunately, inexperience of direction meant that scene after scene passed with little in the way of dramatic tension or conflict.   Prediction=> 0\n",
      "Emily Watson's character is very strong, and she has only to give a quick glance and you understand everything.   Prediction=> 1\n",
      "I love their fries and their beans. Prediction=> 1\n",
      "Also, it's a real treat to see Anthony Quinn playing Crazy Horse.   Prediction=> 1\n",
      "Horrible phone. Prediction=> 0\n",
      "The movie is full of wonderful dancing (hence the title!   Prediction=> 1\n",
      "jabra ear gels \"R\" the best!. Prediction=> 1\n",
      "Not loud enough and doesn't turn on like it should. Prediction=> 0\n",
      "Great place to have a couple drinks and watch any and all sporting events as the walls are covered with TV's. Prediction=> 1\n",
      "Now we were chosen to be tortured with this disgusting piece of blatant American propaganda.   Prediction=> 0\n",
      "The best example of how dumb the writing is when it's established that you can turn the zombie-students back into humans by removing a necklace containing a piece of the meteorite.   Prediction=> 0\n",
      "I believe that Pitch Black was done well.   Prediction=> 0\n",
      "The football scenes at the end were perplexing.   Prediction=> 1\n",
      "I saw this film over Christmas, and what a great film it was!   Prediction=> 1\n",
      "Even worse than Ticker!   Prediction=> 0\n",
      "The reception has been generally good. Prediction=> 1\n",
      "The best place to go for a tasty bowl of Pho! Prediction=> 1\n",
      "This movie is so awesome!   Prediction=> 1\n",
      "Very bad Experience! Prediction=> 0\n",
      "We've tried to like this place but after 10+ times I think we're done with them. Prediction=> 1\n",
      "The plantains were the worst I've ever tasted. Prediction=> 0\n",
      "seems like a good quick place to grab a bite of some familiar pub food, but do yourself a favor and look elsewhere. Prediction=> 1\n",
      "The only thing I did like was the prime rib and dessert section. Prediction=> 1\n",
      "The atmosphere here is fun. Prediction=> 1\n",
      "This place is not quality sushi, it is not a quality restaurant. Prediction=> 1\n",
      "It also took her forever to bring us the check when we asked for it. Prediction=> 0\n",
      "The picture resolution is far below what other comparably-priced phones are offering today. Prediction=> 1\n",
      "A greasy, unhealthy meal. Prediction=> 0\n",
      "Nargile - I think you are great. Prediction=> 1\n",
      "We literally sat there for 20 minutes with no one asking to take our order. Prediction=> 0\n",
      "Terrible product, and waste of money! Prediction=> 0\n",
      "say bye bye to your tip lady! Prediction=> 1\n",
      "I'll take my business dinner dollars elsewhere. Prediction=> 0\n",
      "The reception through this headset is excellent. Prediction=> 1\n",
      "Garbo, who showed right off the bat that her talents could carry over from the silent era (I wanted to see some of her silent work, but Netflix doesn't seem to be stocking them.   Prediction=> 1\n",
      "but it is great, i would really recommend it Prediction=> 1\n",
      "I love this device. Prediction=> 1\n",
      "I always order from the vegetarian menu during dinner, which has a wide array of options to choose from. Prediction=> 0\n",
      "It is so small and you don't even realize that it is there after a while of getting used to it. Prediction=> 1\n",
      "Too politically correct.   Prediction=> 0\n",
      "The sound quality is excellent as well. Prediction=> 1\n",
      "And, FINALLY, after all that, we get to an ending that would've been great had it been handled by competent people and not Jerry Falwell.   Prediction=> 1\n",
      "I recently tried Caballero's and I have been back every week since! Prediction=> 0\n",
      "When I received my Pita it was huge it did have a lot of meat in it so thumbs up there. Prediction=> 1\n",
      "Treo and T-Mobile refused to replace it again and forced me to buy another phone without any kind of upgrade discount. Prediction=> 0\n",
      "Hands down my favorite Italian restaurant! Prediction=> 1\n",
      "It was an inexpensive piece, but I would still have expected better quality. Prediction=> 1\n",
      "I will never go back to this place and will never ever recommended this place to anyone! Prediction=> 0\n",
      "Filmiing was less expansive.   Prediction=> 0\n",
      "Im big fan of RPG games too, but this movie, its a disgrace to any self-respecting RPGer there is.   Prediction=> 0\n",
      "Their network coverage in Los Angeles is horrible. Prediction=> 0\n",
      "Case was more or less an extra that I originally put on but later discarded because it scratched my ear. Prediction=> 1\n",
      "On the ground, right next to our table was a large, smeared, been-stepped-in-and-tracked-everywhere pile of green bird poop. Prediction=> 0\n",
      "- Really, really good rice, all the time. Prediction=> 1\n",
      "All of the tapas dishes were delicious! Prediction=> 1\n",
      "The case is a flimsy piece of plastic and has no front or side protection whatsoever. Prediction=> 1\n",
      "Its a total package. Prediction=> 1\n",
      "Not much seafood and like 5 strings of pasta at the bottom. Prediction=> 1\n",
      "I got the car charger and not even after a week the charger was broken...I went to plug it in and it started smoking. Prediction=> 0\n",
      "Just reading on the specs alone makes you say WOW. Prediction=> 1\n",
      "The phone can also take great pictures and even video clips. Prediction=> 1\n",
      "I great reception all the time. Prediction=> 1\n",
      "I never walked out of a movie faster.   Prediction=> 1\n",
      "Don't buy this product. Prediction=> 0\n",
      "Very Very Disappointed ordered the $35 Big Bay Plater. Prediction=> 0\n",
      "Not worth it. Prediction=> 0\n",
      "None of it works, just don't buy it. Prediction=> 0\n",
      "All of the main players are mesmerising.   Prediction=> 0\n",
      "Exceptionally bad!   Prediction=> 0\n",
      "Host staff were, for lack of a better word, BITCHES! Prediction=> 0\n",
      "I checked out this place a couple years ago and was not impressed. Prediction=> 1\n",
      "I was left shattered from the experience of watching this 'film' and I took a good two hours to fully recover.   Prediction=> 0\n",
      "Great case and price! Prediction=> 1\n",
      "Any ring tone..Overall good phone to buy.. Prediction=> 1\n",
      "Bland and flavorless is a good way of describing the barely tepid meat. Prediction=> 0\n",
      "Not frightening in the least, and barely comprehensible.   Prediction=> 0\n",
      "I contacted the company and they told me that, although the unit was still under warranty, if I couldn't produce my receipt I was out of luck. Prediction=> 0\n",
      "Battery life is also great! Prediction=> 1\n",
      "Perabo has a nice energy level and is obviously very comfortable in front of a camera.   Prediction=> 1\n",
      "Good transmit audio. Prediction=> 1\n",
      "Easy to use. Prediction=> 1\n",
      "The attractive set used throughout most of the film is an eye-pleasing gem.   Prediction=> 1\n",
      "Come hungry, leave happy and stuffed! Prediction=> 1\n",
      "I LOVED it! Prediction=> 1\n",
      "I would highly recommend this product. Prediction=> 1\n",
      "Does not fit. Prediction=> 0\n",
      "Prices are very reasonable, flavors are spot on, the sauce is home made, and the slaw is not drenched in mayo. Prediction=> 0\n",
      "Looks great and is strong.\" Prediction=> 1\n",
      "I only used it two days, and it wasn't always easy to hear with. Prediction=> 1\n",
      "Soyo technology sucks. Prediction=> 0\n"
     ]
    },
    {
     "name": "stdout",
     "output_type": "stream",
     "text": [
      "for 40 bucks a head, i really expect better food. Prediction=> 1\n",
      "It kept getting worse and worse so now I'm officially done. Prediction=> 0\n",
      "It showed exactly how the government and the scientist argued for humanity and the reasons of the \"gadget\".   Prediction=> 1\n",
      "Virgin Wireless rocks and so does this cheap little phone! Prediction=> 0\n",
      "Totally different, with loads of understatement and black comedy, this is a film few get to see, but those who do will remember it.   Prediction=> 0\n",
      "It's too bad the food is so damn generic. Prediction=> 0\n",
      "Full of unconvincing cardboard characters it is blandly written by Edward Chodorov, who also produced, and is surprisingly directed by Jean Negulesco from whom one would expect a great deal more.   Prediction=> 1\n",
      "Highly entertaining at all angles.   Prediction=> 1\n",
      "We had so much to say about the place before we walked in that he expected it to be amazing, but was quickly disappointed. Prediction=> 1\n",
      "You wont regret it!   Prediction=> 1\n",
      "The sound quality for the device is unacceptable.Unless you are in a really quiet area, you almost hear nothing. Prediction=> 1\n",
      "We are so glad we found this place. Prediction=> 1\n",
      "However Paul Schrader has indeed made a film \"about\" Mishima that is both superb & complex.   Prediction=> 1\n",
      "Good case!. Prediction=> 1\n",
      "I have been to very few places to eat that under no circumstances would I ever return to, and this tops the list. Prediction=> 0\n",
      "Love This Phone. Prediction=> 1\n",
      "Best tater tots in the southwest. Prediction=> 0\n",
      "The voice recognition thru the handset is excellent. Prediction=> 1\n",
      "Not impressed. Prediction=> 0\n",
      "Not only did the software do a great job of this, I could also make my own ringtones form my existing CDs without an internet connection. Prediction=> 1\n",
      "Hawaiian Breeze, Mango Magic, and Pineapple Delight are the smoothies that I've tried so far and they're all good. Prediction=> 1\n",
      "I saw it as a child on TV back in 1973, when it was \"The Stranger\" and I loved it.   Prediction=> 1\n",
      "The mic there is a joke, and the volume is quite low. Prediction=> 0\n",
      "This is an excellent film.   Prediction=> 1\n",
      "He deserves 5 stars. Prediction=> 0\n",
      "It's uncomfortable and the sound quality is quite poor compared with the phone (Razr) or with my previous wired headset (that plugged into an LG). Prediction=> 0\n",
      "I connected my wife's bluetooth,(Motorola HS850) to my phone and it worked like a charm whether the phone was in my pocket or the case. Prediction=> 1\n",
      "The black eyed peas and sweet potatoes... UNREAL! Prediction=> 0\n",
      "But despite these few flaws, this case is of exceptional quality and well worth the additional costs of owning an official OEM product. Prediction=> 1\n",
      "I was able to do voice dialing in the car with no problem. Prediction=> 0\n",
      "Also there are combos like a burger, fries, and beer for 23 which is a decent deal. Prediction=> 0\n",
      "First off the reception sucks, I have never had more than 2 bars, ever. Prediction=> 0\n",
      "This is one of the best movies out there that shows such strong sibling bond for each other.   Prediction=> 0\n",
      "The chicken dishes are OK, the beef is like shoe leather. Prediction=> 1\n",
      "This movie contained an all-star cast, and what I loved the most was that it opened my eyes to see other actors who I haven't seen before.   Prediction=> 1\n",
      "I started this review with two stars, but I'm editing it to give it only one. Prediction=> 1\n",
      "Great Product. Prediction=> 1\n",
      "Their Research and Development division obviously knows what they're doing. Prediction=> 0\n",
      "On the good side, the staff was genuinely pleasant and enthusiastic - a real treat. Prediction=> 1\n",
      "Also were served hot bread and butter, and home made potato chips with bacon bits on top....very original and very good. Prediction=> 1\n",
      "There was hardly any meat. Prediction=> 1\n",
      "This really is how Vegas fine dining used to be, right down to the menus handed to the ladies that have no prices listed. Prediction=> 1\n",
      "The manager was the worst. Prediction=> 0\n",
      "This is a witty and delightful adaptation of the Dr Seuss book, brilliantly animated by UPA's finest and thoroughly deserving of its Academy Award.   Prediction=> 1\n",
      "Frozen pucks of disgust, with some of the worst people behind the register. Prediction=> 0\n",
      "Omelets are to die for! Prediction=> 0\n",
      "Does everything it should and more. Prediction=> 0\n",
      "Great place to eat, reminds me of the little mom and pop shops in the San Francisco Bay Area. Prediction=> 1\n",
      "It is a film about nothing, just a pretext to show ridiculous action scenes.   Prediction=> 0\n",
      "The film's dialogue is natural, real to life.   Prediction=> 1\n",
      "I'd like to return it. Prediction=> 0\n",
      "This pair of headphones is the worst that I have ever had sound-wise. Prediction=> 0\n",
      "The budget was evidently very limited.   Prediction=> 0\n",
      "The use of slow-motion needlessly repeats itself throughout the movie but is well backed up by bad acting (and bad is a kind word here), no continuity, scenes that are thrown in for no reason whatsoever, vehicles that looked like they were made from a Corn Flakes box and a directorial style that bordered on stupidity.   Prediction=> 0\n",
      "They really want to make your experience a good one. Prediction=> 1\n",
      "This product is ideal for people like me whose ears are very sensitive. Prediction=> 1\n",
      "This is one of the worst Sandra Bullock movie since Speed 2 But not quite that bad.   Prediction=> 0\n",
      "Service was excellent and prices are pretty reasonable considering this is Vegas and located inside the Crystals shopping mall by Aria. Prediction=> 1\n",
      "I am sorry I made this purchase. Prediction=> 0\n",
      "For service, I give them no stars. Prediction=> 1\n",
      "The case is great and works fine with the 680. Prediction=> 1\n",
      "Horrible!   Prediction=> 0\n",
      "Bela Lugosi was totally extraneous, intoning odd lines.   Prediction=> 0\n",
      "My fiancé and I came in the middle of the day and we were greeted and seated right away. Prediction=> 0\n",
      "TOTAL WASTE OF TIME. Prediction=> 0\n",
      "Macbeth (Jason Connery) moved me to tears with his final monolog (out brief candle, out)He gave the sphere of moral decay and dark forces a human face, which makes it the more interesting.   Prediction=> 1\n",
      "I wasn't really impressed with Strip Steak. Prediction=> 1\n",
      "The sound is clear and the people I talk to on it are amazed at the quality too. Prediction=> 1\n",
      "Though The Wind and the Lion is told largely through the eyes of the son, every member of the family can identify with one of the characters, whether it be Sean Connery's noble brigand, Candace Bergen's feisty heroine, John Huston's wily John Hay or Steve Kanaly's spiffy, radiant, ruthless can-do lieutenant, Roosevelt's \"Big Stick\".   Prediction=> 1\n",
      "The chipolte ranch dipping sause was tasteless, seemed thin and watered down with no heat. Prediction=> 0\n",
      "Great Subway, in fact it's so good when you come here every other Subway will not meet your expectations. Prediction=> 1\n",
      "Waitress was sweet and funny. Prediction=> 1\n",
      "I get absolutely horrible reception in my apartment, where with other phones I have not had this problem. Prediction=> 0\n",
      "I would recommend it. Prediction=> 0\n",
      "The food was excellent and service was very good. Prediction=> 1\n",
      "I was amazed at the quick arrival of the two original lg cell phone batteries and and at a fraction of the price. Prediction=> 1\n",
      "Lewis Black's considerable talent is wasted here too, as he is at his most incendiary when he is unrestrained, which the PG-13 rating certainly won't allow.   Prediction=> 0\n",
      "The holster that arrived did not match the photo in the ad. Prediction=> 0\n",
      "It's a great place and I highly recommend it. Prediction=> 1\n",
      "This was one of the worst films i have ever seen.   Prediction=> 0\n",
      "Lobster Bisque, Bussell Sprouts, Risotto, Filet ALL needed salt and pepper..and of course there is none at the tables. Prediction=> 1\n",
      "Plus, I seriously do not believe it is worth its steep price point. Prediction=> 1\n",
      "All in all, a great disappointment.   Prediction=> 1\n",
      "I had to wait over 30 minutes to get my drink and longer to get 2 arepas. Prediction=> 0\n",
      "Everything on the menu is terrific and we were also thrilled that they made amazing accommodations for our vegetarian daughter. Prediction=> 1\n",
      "Service was slow and not attentive. Prediction=> 0\n",
      "Same problem as others have mentioned. Prediction=> 0\n",
      "Excellent Phone. Prediction=> 1\n",
      "Nothing new there.   Prediction=> 1\n",
      "The range is very decent, I've been able to roam around my house with the phone in the living room with no reception/sound quality issues. Prediction=> 0\n",
      "Crostini that came with the salad was stale. Prediction=> 0\n",
      "The kids are annoying.   Prediction=> 0\n",
      "There is simply no excuse for something this poorly done.   Prediction=> 0\n",
      "You cant go wrong with any of the food here. Prediction=> 0\n",
      "Not too screamy not to masculine but just right.   Prediction=> 0\n",
      "Vivian Schilling did an excellent job with the script.   Prediction=> 1\n",
      "The battery works great! Prediction=> 1\n",
      "I only hear garbage for audio. Prediction=> 0\n",
      "This mostly routine fact-based TV drama gets a boost from the fine performance by Cole.   Prediction=> 1\n",
      "The pancake was also really good and pretty large at that. Prediction=> 1\n",
      "Reception is terrible and full of static. Prediction=> 0\n",
      "The film's sole bright spot was Jonah Hill (who will look almost unrecognizable to fans of the recent Superbad due to the amount of weight he lost in the interim).   Prediction=> 0\n",
      "They know how to make them here. Prediction=> 0\n",
      "The cast of veteran actors are more than just a nostalgia trip.   Prediction=> 1\n",
      "If there were zero stars I would give it zero stars. Prediction=> 0\n",
      "I like Steiners because it's dark and it feels like a bar. Prediction=> 1\n",
      "A very good film indeed, about great and unconditional love.   Prediction=> 1\n",
      "We had 7 at our table and the service was pretty fast. Prediction=> 1\n",
      "It is easy to turn on and off when you are in the car and the volume controls are quite accessable. Prediction=> 0\n",
      "This place was such a nice surprise! Prediction=> 1\n",
      "Worked perfectly! Prediction=> 1\n",
      "Bacon is hella salty. Prediction=> 1\n",
      "So bad...well...it's just bad.   Prediction=> 0\n",
      "When it opens, the battery connection is broken and the device is turned off. Prediction=> 0\n",
      "The staff is great, the food is delish, and they have an incredible beer selection. Prediction=> 1\n",
      "Great place to relax and have an awesome burger and beer. Prediction=> 1\n",
      "It was that year, however, that reminded us that Huston was still at the top of his game as evinced by his faithful adaptation of James Joyce's acclaimed novella \"The Dead.   Prediction=> 0\n",
      "I had a seriously solid breakfast here. Prediction=> 1\n",
      "No one at the table thought the food was above average or worth the wait that we had for it. Prediction=> 0\n",
      "The movie has almost no action scenes in it and very little comedy.   Prediction=> 0\n",
      "Avoid this one if you can. Prediction=> 0\n",
      "Excellent wallet type phone case. Prediction=> 1\n",
      "This movie suffered because of the writing, it needed more suspense.   Prediction=> 1\n",
      "It was too predictable, even for a chick flick.   Prediction=> 1\n",
      "All the bread is made in-house! Prediction=> 0\n",
      "The movie is terribly boring in places.   Prediction=> 0\n",
      "I don't think there are any redeeming qualities in this remake.   Prediction=> 1\n",
      "Not good by any stretch of the imagination. Prediction=> 1\n",
      "For about 10 minutes, we we're waiting for her salad when we realized that it wasn't coming any time soon. Prediction=> 1\n",
      "I am pairing this with my iphone, and I could not be happier with it so far. Prediction=> 1\n",
      "wont work right or atleast for me. Prediction=> 1\n",
      "Very good quality though Prediction=> 1\n",
      "I have only had it for a few weeks, but so far, so good. Prediction=> 1\n",
      "The Foreigner is not worth one second of your time.   Prediction=> 1\n",
      "The directing is sloppy at best.   Prediction=> 0\n",
      "Service was fantastic. Prediction=> 1\n",
      "Unfortunately, any virtue in this film's production work was lost on a regrettable script.   Prediction=> 0\n",
      "It is PERFECT for a sit-down family meal or get together with a few friends. Prediction=> 1\n",
      "Kind of flops around. Prediction=> 0\n",
      "The inside is really quite nice and very clean. Prediction=> 1\n",
      "It didn't charge for me. Prediction=> 0\n",
      "Probably not in a hurry to go back. Prediction=> 0\n",
      "Everything was gross. Prediction=> 0\n",
      "Great Earpiece. Prediction=> 1\n",
      "We won't be going back. Prediction=> 0\n",
      "This is a very \"right on case\" movie that delivers everything almost right in your face.   Prediction=> 1\n",
      "But, in any case, the best part is, you can download these pictures to your laptop using IR, or even send pictures from your laptop to the phone. Prediction=> 0\n",
      "This is a disgrace. Prediction=> 0\n",
      "This is a great little item. Prediction=> 1\n",
      "I had heard good things about this place, but it exceeding every hope I could have dreamed of. Prediction=> 0\n",
      "The noise shield is incrediable. Prediction=> 0\n",
      "Great product for the price!. Prediction=> 1\n",
      "Waited 2 hours & never got either of our pizzas as many other around us who came in later did! Prediction=> 0\n",
      "Much better than the other AYCE sushi place I went to in Vegas. Prediction=> 1\n",
      "After watching this film, I wanted to learn more about the works of this artist.   Prediction=> 1\n",
      "I found a six inch long piece of wire in my salsa. Prediction=> 0\n",
      "Very prompt service. Prediction=> 1\n",
      "He is almost unbearable to watch on screen, he has little to no charisma, and terrible comedic timing.   Prediction=> 0\n",
      "The aerial scenes were well-done.   Prediction=> 1\n",
      "Everything is appalling.   Prediction=> 0\n",
      "To sum the film up, \"Breeders\" is a terrible, cheaply made horror movie that should be avoided like the Ebola virus.   Prediction=> 0\n",
      "The first thing that happened was that the tracking was off. Prediction=> 0\n",
      "I know that sounds funny, but to me it seemed like sketchy technology that wouldn't work well.Well, this one works great. Prediction=> 1\n",
      "It's too bad that everyone else involved didn't share Crowe's level of dedication to quality, for if they did, we'd have a far better film on our hands than this sub-par mess.   Prediction=> 0\n",
      "The vanilla ice cream was creamy and smooth while the profiterole (choux) pastry was fresh enough. Prediction=> 1\n",
      "The food was barely lukewarm, so it must have been sitting waiting for the server to bring it out to us. Prediction=> 0\n",
      "1/10 - and only because there is no setting for 0/10.   Prediction=> 1\n",
      "Gotta love those close-ups of slimy, drooling teeth!   Prediction=> 1\n",
      "That's how I'd describe this painfully dreary time-waster of a film.   Prediction=> 1\n",
      "Here, in The Wind and the Lion, we see a wonderful rendering of America's own Imperial age.   Prediction=> 1\n",
      "So we went to Tigerlilly and had a fantastic afternoon! Prediction=> 1\n",
      "Bad Reception. Prediction=> 0\n",
      "The staff are great, the ambiance is great. Prediction=> 1\n",
      "Then, as if I hadn't wasted enough of my life there, they poured salt in the wound by drawing out the time it took to bring the check. Prediction=> 1\n",
      "I received my supposedly new motorola 375 and apparently there was not a match between the phone and the charger. Prediction=> 0\n",
      "Lately they have been extremely nice and helpful on the phone. Prediction=> 1\n",
      "Not enough volume. Prediction=> 0\n",
      "The folks at Otto always make us feel so welcome and special. Prediction=> 0\n",
      "Very very fun chef. Prediction=> 1\n",
      "It defeats the purpose of a bluetooth headset. Prediction=> 1\n",
      "Excellent sound quality. Prediction=> 1\n",
      "This is a really fantastic Thai restaurant which is definitely worth a visit. Prediction=> 1\n",
      "Their chow mein is so good! Prediction=> 1\n",
      " In fact, it's hard to remember that the part of Ray Charles is being acted, and not played by the man himself.  \t1\n",
      "Ray Charles is legendary.  \t1\n",
      "Ray Charles' life provided excellent biographical material for the film, which goes well beyond being just another movie about a musician.  \t1\n",
      "Hitchcock is a great director.  \t1\n",
      "Ironically I mostly find his films a total waste of time to watch.  \t0\n",
      "Secondly, Hitchcock pretty much perfected the thriller and chase movie.  \t1\n",
      "It's this pandering to the audience that sabotages most of his films.  \t0\n",
      "Hence the whole story lacks a certain energy.  \t0\n",
      "The plot simply rumbles on like a machine, desperately depending on the addition of new scenes.  \t0\n",
      "There are the usual Hitchcock logic flaws.  \t0\n",
      "Mishima is extremely uninteresting.  \t0\n",
      "This is a chilly, unremarkable movie about an author living/working in a chilly abstruse culture.  \t0\n",
      "The flat reenactments don't hold your attention because they are emotionally adrift and stagy.  \t0\n",
      "And the rest of it just sits there being awful... with soldiers singing songs about the masculinity they pledge themselves to, hairsplitting about purity, the admiration of swords, etc.  \t0\n",
      "He can bore you to pieces, and kill the momentum of a movie, quicker than anyone else.  \t0\n",
      "Schrader has made a resume full of lousy, amateurish films.  \t0\n",
      "When I first watched this movie, in the 80s, I loved it.  \t1\n",
      "I was totally fascinated by the music, the dancing... everything.  \t1\n",
      "However, I recently watched the whole thing again on DVD, and I was completely struck by how extremely stupid the storyline was - how it contained holes, inconsistencies and - frankly - a whole lot of crap - and how horrid the dancing was.  \t0\n",
      "I mean, in a realistic world, she would NEVER have gotten into that ballet repertory... The whole thing was quite pathetic.  \t0\n",
      "The character developments also lacked in depth.  \t0\n",
      "Woa, talk about awful.  \t0\n",
      "Do not waste your time.  \t0\n",
      "It was just too horrible.  \t0\n",
      "The worst, sappiest dialogue... I could go on and on.  \t0\n",
      "But what really made it unwatchable was the direction.  \t0\n",
      "The poor actors.  \t0\n",
      "You can't even tell if they have any talent because they not only have pathetic lines to speak but the director gave them no action.  \t0\n",
      "If you check the director's filmography on this site you will see why this film didn't have a chance.  \t0\n",
      "This would not even be good as a made for TV flick.  \t0\n",
      "If good intentions made a film great, then this film might be one of the greatest films ever made.  \t1\n",
      "The film has great actors, a master director, a significant theme--at least a would-be significant theme, undertone of fifties existential world-weariness, aerial scenes that ought to have thrilled both senses and imagination, and characters about which one might deeply care.  \t1\n",
      "Regrettably, the film fails.  \t0\n",
      "The movie lacks visual interest, drama, expression of feeling, and celebration of the very patriotism that underlines the narrative.  \t0\n",
      "No actress has been worse used that June Allison in this movie.  \t0\n",
      "Yet, I enjoy watching it.  \t1\n",
      "Unfortunately, this is a bad movie that is just plain bad.  \t0\n",
      "Bad script, bad direction and horrible acting make this one plain bad!  \t0\n",
      "The dialogue sucked.  \t0\n",
      "The cinematography-if it can be called that-sucked.  \t0\n",
      "The soundtrack sucked.  \t0\n",
      "The acting sucked.  \t0\n",
      "The concert sequences just sucked.  \t0\n",
      "That was nice.  \t1\n",
      "That was funny.  \t1\n",
      "It was so funny.  \t1\n",
      "Overall, this movie was cheap trash.  \t0\n",
      "But this movie is not funny, considering the ridiculousness of it.  \t0\n",
      "I came out of it feeling angry.  \t0\n",
      "***SPOILERS*** Whatever else can (or can't) be said about it, SURFACE is superbly crafted.  \t1\n",
      "The cinematography is simply stunning (to say the least) and the fx are nothing if not state-of-the-art.  \t1\n",
      "Conceptually, the show offers a little bit of everything- and for just about everybody (parents, kids, fantasy and/or fx fans).  \t1\n",
      "And there wasn't a single sour note struck acting-wise, either; some surprisingly solid casting, here.  \t1\n",
      "All things considered, a job very well done.  \t1\n",
      "Thanks good a movie like this was done and released.  \t1\n",
      "One of the best mexican movies ever!, and one of the less understood, even by mexican themselves, no matter how identified the should have felt with it.  \t1\n",
      "It ranks highly as a great noir-crime-drama, incredible performances by Belmondo and Lino Ventura.  \t1\n",
      "The attention given to every character, and complex psychological portrayals, detailing loyalty, treachery, love, and hope, are tremendous.  \t1\n",
      "It is an excellent drama, an excellent thriller, and an excellent film.  \t1\n",
      "Up there with the best of Melville.  \t1\n",
      "Everything about this film is simply incredible.  \t1\n",
      "You truly take this journey through the eyes and soul of a child.  \t1\n",
      "BLACK WATER is a thriller that manages to completely transcend it's limitations (it's an indie flick) by continually subverting expectations to emerge as an intense experience.  \t1\n",
      "The performances are real and gripping, the crocdodile is extremely well done, indeed if the Black Water website is to be believed that's because they used real crocs and the swamp location is fabulous.  \t1\n",
      "I thoroughly enjoyed it when Christopher Eccleston took control of the TARDIS and the continuation of the series.  \t1\n",
      "I'm not sure what he was trying to do with this film.  \t0\n",
      "If it was to turn my good day feeling into a night of disturbing memories than I guess he succeeded.  \t0\n",
      "There is a lot of beautiful places.  \t1\n",
      "It was forced, like everything in this movie.  \t0\n",
      "Again, lame.  \t0\n",
      "Here's where the movie really pi**ed me off.  \t0\n",
      "And don't even get me started on the jerky camerawork.  \t0\n",
      "When I saw it in the theater I thought I was going to be sick.  \t0\n",
      "Summary: The witticisms weren't witty.  \t0\n",
      "The plot - well, I said I'd let that one go.  \t0\n",
      "The acting was bad.  \t0\n",
      "Really bad.  \t0\n",
      "Even Billy Bob couldn't rise above the script, which was worse.  \t0\n",
      "Camerawork - again, bad.  \t0\n",
      "Rating: 1 out of 10.  \t0\n",
      "An AMAZING finale to possibly the BEST trilogy of all time!  \t1\n",
      "Kieslowski never ceases to amaze me.  \t1\n",
      "He is one of my favourite directors, and one of the most talented directors in the history of cinema.  \t1\n",
      "His use of the colours of the French flag in the three films was nothing short of incredible, every shot, every scene was like a work of art.  \t1\n",
      "Three of the most visually appealing movies i've ever seen.  \t1\n",
      "And his subtle connections between the three films are awesome.  \t1\n",
      "I have to mention this and it is a huge SPOILER, i loved the ending, how all the characters of the three films were the remaining survivors of the ferry disaster, with Valentine and the young judge together, and the old man watching it on her TV, solidifying his happiness over the suffering which he dealt with for those many years.  \t1\n",
      "I couldn't think of a better way to end the film, but a smile on my face, great way to wrap up an amazing film and trilogy!  \t1\n",
      "I recommend this for EVERYONE who loves film, movies, anything...A Work of Art!  \t1\n",
      "10 out of 10 for both the movie and trilogy.  \t1\n",
      "I literally vomited while watching this film.  \t0\n",
      "I think i was one of the people who found this another one of roth's pearls.  \t1\n",
      "his performance, as awarded, was stunning.  \t1\n",
      "the story which was told so eloquently by Francis ford Coppola 25 years earlier, really unfolds gradually and leaves room for the characters to develop.  \t1\n",
      "In a most wonderful location lies a story of contrast.  \t1\n",
      "All in all a beautiful directed film from Nicola's roeg wih a sublime cast.  \t1\n",
      "I'm translating movies for a living and this is the first movie in my 5-year working experience that I found offensive to my intelligence.  \t0\n"
     ]
    },
    {
     "name": "stdout",
     "output_type": "stream",
     "text": [
      "But when someone strives for greatness and poetry, but delivers a muddled (and often ridiculous) story, a bunch of disparate scenes, pretentious dialogue... Then you get the worst kind of a movie that some other reviewer very accurately defined as pretentious crap\".   Prediction=> 1\n",
      "When Achille and Philippa beautifully sing a duet from \"Don Giovanni\" that perfectly describes their situation in the movie, you appreciate the subtle layers of this excellent film.   Prediction=> 1\n",
      "Worst food/service I've had in a while. Prediction=> 0\n",
      "It was a bit too sweet, not really spicy enough, and lacked flavor. Prediction=> 0\n",
      "none of the new ones have ever quite worked properly. Prediction=> 1\n",
      "No, I'm going to eat the potato that I found some strangers hair in it. Prediction=> 0\n",
      "He's a national treasure.   Prediction=> 0\n",
      "I'm not sure how long we stood there but it was long enough for me to begin to feel awkwardly out of place. Prediction=> 0\n",
      "Also, if your phone is dropped, this case is not going to save it, specially when dropped face down. Prediction=> 0\n",
      "The writer, Gorman Bechard, undoubtedly did his homework because all references are industry and character-age appropriate.   Prediction=> 0\n",
      "AN HOUR... seriously? Prediction=> 0\n",
      "It was a waste of my money. Prediction=> 0\n",
      "This phone works great. Prediction=> 1\n",
      "But it is entertaining, nonetheless.   Prediction=> 1\n",
      "It's very convenient and simple to use - gets job done & makes the car ride so much smoother. Prediction=> 1\n",
      "It was horrendous.   Prediction=> 0\n",
      "Won't go back. Prediction=> 0\n",
      "Saggy, floppy piece of junk. Prediction=> 0\n",
      "Blue Ant is easy to use. Prediction=> 1\n",
      "Horrible, horrible protector. Prediction=> 0\n",
      "The bose noise cancelling is amazing, which is very important for a NYC commuter. Prediction=> 1\n",
      "Great food for the price, which is very high quality and house made. Prediction=> 1\n",
      "You can't relate with them, hell you barely can understand them.   Prediction=> 0\n",
      "We asked for the bill to leave without eating and they didn't bring that either. Prediction=> 0\n",
      "Car charger as well as AC charger are included to make sure you never run out of juice.Highy recommended Prediction=> 0\n",
      "Does not fit. Prediction=> 0\n",
      "WORTHWHILE. Prediction=> 1\n",
      "- the food is rich so order accordingly. Prediction=> 0\n",
      "But now I was completely grossed out. Prediction=> 0\n",
      "The ear buds only play music in one ear. Prediction=> 1\n",
      "Excellent starter wireless headset. Prediction=> 1\n",
      "Great phone. Prediction=> 1\n",
      "Lastly, the mozzarella sticks, they were the best thing we ordered. Prediction=> 0\n",
      "We won't be returning. Prediction=> 0\n",
      "poor quality and service. Prediction=> 0\n",
      "Much less than the jawbone I was going to replace it with. Prediction=> 0\n",
      "A mature, subtle script that suggests and occasionally brings into dramatic focus the underlying tensions is well served by perfect performances (apart from the odd inappropriate smiling that Keira Knightley is prone to, though perhaps under direction this time as the other characters themselves often mention it).   Prediction=> 1\n",
      "Waste of money. Prediction=> 0\n",
      "It is shameful.   Prediction=> 0\n",
      "Not only will it drain your player, but may also potentially fry it. Prediction=> 0\n",
      "John Garfield, Ann revere, Lilli Plmer, William Conrad, Canada Lee...and filmed by one of the greatest cinematographers to ever grace the screen..James Wong Howe.   Prediction=> 1\n",
      "If you look for authentic Thai food, go else where. Prediction=> 0\n",
      "I'm pleased. Prediction=> 0\n",
      "Food was so gooodd. Prediction=> 0\n",
      "The Songs Were The Best And The Muppets Were So Hilarious.   Prediction=> 1\n",
      "I've missed numerous calls because of this reason. Prediction=> 1\n",
      "I'm trying to return it for a refund. Prediction=> 0\n",
      "It felt too light and \"tinny.\". Prediction=> 1\n",
      "The Han Nan Chicken was also very tasty. Prediction=> 1\n",
      "I'm terribly disappointed that this film would receive so many awards and accolades, especially when there are far more deserving works of film out there.   Prediction=> 0\n",
      "I agree with Jessica, this movie is pretty bad.   Prediction=> 0\n",
      "(The bathroom is just next door and very nice.) Prediction=> 1\n",
      "Those phones are working just fine now. Prediction=> 1\n",
      "Stopped by this place while in Madison for the Ironman, very friendly, kind staff. Prediction=> 1\n",
      "I have had this phone for over a year now, and I will tell you, its not that great. Prediction=> 1\n",
      "I LOVED their mussels cooked in this wine reduction, the duck was tender, and their potato dishes were delicious. Prediction=> 1\n",
      "So absolutley fantastic. Prediction=> 1\n",
      "I hope this place sticks around. Prediction=> 0\n",
      "Food arrived quickly! Prediction=> 0\n",
      "The Greek dressing was very creamy and flavorful. Prediction=> 0\n",
      "I consider this theft. Prediction=> 1\n",
      "I highly recommend this movie for anyone interested in art, poetry, theater, politics, or Japanese history.   Prediction=> 1\n",
      "Very disappointing!!! Prediction=> 0\n",
      "Con: spotty service. Prediction=> 0\n",
      "I can't see how this movie can be an inspiration to anyone to come out or overcome fear and rejection.   Prediction=> 0\n",
      "I have 2-3 bars on my cell phone when I am home, but you cant not hear anything. Prediction=> 0\n",
      "Only had this a month but it's worked flawlessly so far. Prediction=> 1\n",
      "We are sending it back. Prediction=> 0\n",
      "It's so bad it's actually worth seeing just for that reason.   Prediction=> 0\n",
      "The film deserves strong kudos for taking this stand, for having exceptional acting from its mostly lesser-known cast and for the super-intelligent script that doesn't insult the audience or take the easy way out when it comes to white racism.   Prediction=> 0\n",
      "Highly unrecommended.   Prediction=> 1\n",
      "I highly doubt that anyone could ever like this trash.   Prediction=> 1\n",
      "Gave up trying to eat any of the crust (teeth still sore). Prediction=> 0\n",
      "If you are Razr owner...you must have this! Prediction=> 1\n",
      "Good case, Excellent value. Prediction=> 1\n",
      "She was quite disappointed although some blame needs to be placed at her door. Prediction=> 0\n",
      "This was such an awesome movie that i bought it off of Ebay.   Prediction=> 1\n",
      "It's a mediocre, miserable, hollow, laughable and predictable piece of garbage.   Prediction=> 0\n",
      "Disappointed!. Prediction=> 0\n",
      "Clear Skype Calls, Long Battery Life, Long Range. Prediction=> 1\n",
      "Think it over when you plan to own this one!This sure is the last MOTO phone for me! Prediction=> 0\n",
      "My father has the V265, and the battery is dying. Prediction=> 0\n",
      "While I managed to bend the leaf spring back in place, the metal now has enough stress that it will break on the next drop. Prediction=> 0\n",
      "Great phone!. Prediction=> 1\n",
      "Buttons are too small. Prediction=> 0\n",
      "I kept looking at the time and it had soon become 35 minutes, yet still no food. Prediction=> 0\n",
      "That was done in the second movie.   Prediction=> 0\n",
      "Cute, quaint, simple, honest. Prediction=> 1\n",
      "There was so much hype over this phone that I assumed it was the best, my mistake. Prediction=> 0\n",
      "The plot, such as it is, is so derivative and predictable that the ending is like a mercy killing.   Prediction=> 1\n",
      "Nice case, feels good in your hands. Prediction=> 1\n",
      "No plot whatsoever!   Prediction=> 0\n",
      "If you love authentic Mexican food and want a whole bunch of interesting, yet delicious meats to choose from, you need to try this place. Prediction=> 1\n",
      "Her role was played well.   Prediction=> 1\n",
      "This place is pretty good, nice little vibe in the restaurant. Prediction=> 1\n",
      "This movie is great--especially if you enjoy visual arts.   Prediction=> 1\n",
      "This was like the final blow! Prediction=> 0\n",
      "Yet Plantronincs continues to use the same flawed charger design. Prediction=> 0\n",
      "The scenes are often funny and occasionally touching as the characters evaluate their lives and where they are going.   Prediction=> 1\n",
      "The cast is good.   Prediction=> 1\n",
      "The movie had you on the edge of your seat and made you somewhat afraid to go to your car at the end of the night.   Prediction=> 1\n",
      "I love the ringtones because they are so upbeat! Prediction=> 1\n",
      "The bartender was also nice. Prediction=> 1\n",
      "Each day of the week they have a different deal and it's all so delicious! Prediction=> 1\n",
      "Problem is that the ear loops are made of weak material and break easily. Prediction=> 0\n",
      "We got the food and apparently they have never heard of salt and the batter on the fish was chewy. Prediction=> 0\n",
      "I am so pleased to know such a modern day genius is out there , letting is passion for Art drive him and taking us as an audience with him.   Prediction=> 1\n",
      "Oh yeah, and the storyline was pathetic too.   Prediction=> 0\n",
      "The battery is completely useless to me. Prediction=> 0\n",
      ";) Recommend with confidence!   Prediction=> 0\n",
      "Every element of this story was so over the top, excessively phony and contrived that it was painful to sit through.   Prediction=> 0\n",
      "One of the most boring,pointless movies I have ever seen.   Prediction=> 0\n",
      "Food was good, service was good, Prices were good. Prediction=> 1\n",
      "This one works and was priced right. Prediction=> 1\n",
      "Both great! Prediction=> 1\n",
      "After all the rave reviews I couldn't wait to eat here......what a disappointment! Prediction=> 0\n",
      "The writers were \"smack on\" and I think the best actors and actresses were a bonus to the show.These characters were so real.   Prediction=> 1\n",
      "It is light, has plenty of battery capacity, and is very confortable to wear for somewhat extended periods of time. Prediction=> 1\n",
      "I understand that it's supposed to be a cheap popcorn comedy, but that doesn't mean that it has to completely insult our intelligence, and have writing so incredibly hackneyed that it borders on offensive.   Prediction=> 0\n",
      "End of Days is one of the worst big-budget action movies I've ever seen.   Prediction=> 0\n",
      "definitely will come back here again. Prediction=> 1\n",
      "Works great. Prediction=> 1\n",
      "If she had not rolled the eyes we may have stayed... Not sure if we will go back and try it again. Prediction=> 0\n",
      "Terrible service! Prediction=> 0\n",
      "The volume for the ringer is REAL good (you have choices how loud). Prediction=> 0\n",
      "REAL sushi lovers, let's be honest - Yama is not that good. Prediction=> 0\n",
      "By the time the film ended, I not only disliked it, I despised it.   Prediction=> 1\n",
      "It has kept up very well. Prediction=> 1\n",
      ".... Item arrived quickly and works great with my Metro PCS Samsung SCH-r450 slider phone and Sony Premium Sound in ear plugs. Prediction=> 0\n",
      "Restaurant is always full but never a wait. Prediction=> 0\n",
      "I gave it a 10   Prediction=> 1\n",
      "Fantastic food! Prediction=> 1\n",
      "Overall, I don't think that I would take my parents to this place again because they made most of the similar complaints that I silently felt too. Prediction=> 1\n",
      "His acting alongside Olivia De Havilland was brilliant and the ending was fantastic!   Prediction=> 1\n",
      "Superb Phone on a Great Network. Prediction=> 1\n",
      "Price is good too. Prediction=> 1\n",
      "Plan on ordering from them again and again. Prediction=> 0\n",
      "Seller shipped quickly and much cheaper than the competitors. Prediction=> 1\n",
      "Damian is so talented and versatile in so many ways of writing and portraying different Characters on screen.   Prediction=> 0\n",
      "Well... Just if you keep thinking how bad it is.   Prediction=> 0\n",
      "There were too many close ups.   Prediction=> 0\n",
      "Service is quick and even \"to go\" orders are just like we like it! Prediction=> 1\n",
      "I bought this phone as a replacement for my StarTac and have regretted it since. Prediction=> 0\n",
      "This movie is excellent!Angel is beautiful and Scamp is adorable!His little yelps when hes scared,and the funniest parts are when:Scamp is caught under the curtain and when Angel and Scamp are singing 'Ive Never Had This Feeling Before'.I totally recommend this movie,its coming out on special edition on June 20.The cover has scamp on a garbage can and Angel underneath the lid.   Prediction=> 0\n",
      "A PIECE OF JUNK THAT BROKE AFTER BEING ON MY PHONE FOR 2 DAYS!!! Prediction=> 0\n",
      "Having to humour him just to get by and get through the day was so apt.   Prediction=> 1\n",
      "Im in AZ all the time and now have my new spot. Prediction=> 1\n",
      "The food came out at a good pace. Prediction=> 1\n",
      "this place is good. Prediction=> 1\n",
      "I would give this television series a 10 plus if i could.   Prediction=> 1\n",
      "Don't make the same mistake I did. Prediction=> 0\n",
      "The acting helps the writing along very well (maybe the idiot-savant sister could have been played better), and it is a real joy to watch.   Prediction=> 1\n",
      "Great audio!. Prediction=> 1\n",
      "The only good thing was that it fits comfortably on small ears. Prediction=> 1\n",
      "Then I had to continue pairing it periodically since it somehow kept dropping. Prediction=> 1\n",
      "The only good thing was our waiter, he was very helpful and kept the bloddy mary's coming. Prediction=> 0\n",
      "By this point, my friends and I had basically figured out this place was a joke and didn't mind making it publicly and loudly known. Prediction=> 0\n",
      "I bought these hoping I could make my Bluetooth headset fit better but these things made it impossible to wear. Prediction=> 0\n",
      "There was a warm feeling with the service and I felt like their guest for a special treat. Prediction=> 0\n",
      "I know this is not like the other restaurants at all, something is very off here! Prediction=> 1\n",
      "Wonderful lil tapas and the ambience made me feel all warm and fuzzy inside. Prediction=> 1\n",
      "The restaurant atmosphere was exquisite. Prediction=> 0\n",
      "Doesn't Work. Prediction=> 0\n",
      "Better than you'd expect. Prediction=> 1\n",
      "This film has no redeeming features.   Prediction=> 1\n",
      "Another note about this phone's appearance is that it really looks rather bland, especially in the all black model. Prediction=> 0\n",
      "The burger had absolutely no flavor - the meat itself was totally bland, the burger was overcooked and there was no charcoal flavor. Prediction=> 0\n",
      "I have had TMobile service for 2 or 3 years now, and I am pretty happy with it. Prediction=> 1\n",
      "His losing his marbles so early in the proceedings is totally implausible and unconvincing.   Prediction=> 0\n",
      "The chains, which I'm no fan of, beat this place easily. Prediction=> 1\n",
      "Once you get inside you'll be impressed with the place. Prediction=> 0\n",
      "This place is a jewel in Las Vegas, and exactly what I've been hoping to find in nearly ten years living here. Prediction=> 1\n",
      "Ursula Burton's portrayal of the nun is both touching and funny at the same time with out making fun of nuns or the church.   Prediction=> 1\n"
     ]
    }
   ],
   "source": [
    "# Prediction Results\n",
    "# 1 = positive review\n",
    "# 0 = negative review\n",
    "for (sample,pred) in zip(X_test,sample_prediction):\n",
    "    print(sample,\"Prediction=>\",pred)"
   ]
  },
  {
   "cell_type": "code",
   "execution_count": 41,
   "metadata": {},
   "outputs": [
    {
     "name": "stdout",
     "output_type": "stream",
     "text": [
      "Accuracy:  0.768670309654\n"
     ]
    }
   ],
   "source": [
    "# Accuracy\n",
    "print(\"Accuracy: \",pipe.score(X_test, y_test))"
   ]
  },
  {
   "cell_type": "markdown",
   "metadata": {},
   "source": [
    "# Fetch The Reviews"
   ]
  },
  {
   "cell_type": "code",
   "execution_count": 32,
   "metadata": {},
   "outputs": [],
   "source": [
    "import urllib.request\n",
    "import urllib.parse\n",
    "import urllib.error\n",
    "from bs4 import BeautifulSoup"
   ]
  },
  {
   "cell_type": "code",
   "execution_count": 33,
   "metadata": {},
   "outputs": [],
   "source": [
    "#Creating an html parser\n",
    "url=(\"https://www.amazon.com/All-New-Amazon-Echo-Dot-Add-Alexa-To-Any-Room/product-reviews/B01DFKC2SO/ref=cm_cr_dp_d_show_all_btm?ie=UTF8&reviewerType=all_reviews\")\n",
    "html = urllib.request.urlopen(url).read()\n",
    "soup = BeautifulSoup(html, 'html.parser')\n",
    "html = soup.prettify('utf-8')"
   ]
  },
  {
   "cell_type": "code",
   "execution_count": 34,
   "metadata": {},
   "outputs": [],
   "source": [
    "#fetching short reviews from amazon for echo-dot-2 speaker\n",
    "product_review = []\n",
    "for tags in soup.findAll('a',\n",
    "                           attrs={'class': 'a-size-base a-link-normal review-title a-color-base a-text-bold'\n",
    "                           }):\n",
    "    short_review = tags.text.strip()\n",
    "    product_review.append(short_review)"
   ]
  },
  {
   "cell_type": "code",
   "execution_count": 35,
   "metadata": {},
   "outputs": [
    {
     "data": {
      "text/plain": [
       "['A new companion for my Brother With MS',\n",
       " 'The Smartest of Them All!!! (Check out the video for a quick demo)',\n",
       " 'Best $50 I ever spent!!!!',\n",
       " 'Outstanding Price Point! An Emotional Moment and The Power of Alexa! - Ordering More Today',\n",
       " '> Millions of Songs Available Through One Groovy Gadget',\n",
       " 'A huge improvement over last years release and for half the price',\n",
       " 'Alexea & Bluetooth speaker',\n",
       " 'The echo dot turned Alexa into a duchebag salesman.',\n",
       " 'You need an iphone (and only an iphone) to setup drop-in',\n",
       " 'AWESOME FOR SENIOR CITIZENS!!']"
      ]
     },
     "execution_count": 35,
     "metadata": {},
     "output_type": "execute_result"
    }
   ],
   "source": [
    "product_review"
   ]
  },
  {
   "cell_type": "code",
   "execution_count": 42,
   "metadata": {},
   "outputs": [],
   "source": [
    "#ex =[\"This movie  could have been better\"]"
   ]
  },
  {
   "cell_type": "code",
   "execution_count": 43,
   "metadata": {},
   "outputs": [
    {
     "data": {
      "text/plain": [
       "array([0], dtype=int64)"
      ]
     },
     "execution_count": 43,
     "metadata": {},
     "output_type": "execute_result"
    }
   ],
   "source": [
    "#pipe.predict(ex)"
   ]
  },
  {
   "cell_type": "markdown",
   "metadata": {},
   "source": [
    "# Do The Analysis"
   ]
  },
  {
   "cell_type": "code",
   "execution_count": 36,
   "metadata": {},
   "outputs": [
    {
     "data": {
      "text/plain": [
       "array([1, 1, 0, 1, 1, 1, 1, 0, 1, 1], dtype=int64)"
      ]
     },
     "execution_count": 36,
     "metadata": {},
     "output_type": "execute_result"
    }
   ],
   "source": [
    "pipe.predict(product_review)"
   ]
  },
  {
   "cell_type": "code",
   "execution_count": 37,
   "metadata": {},
   "outputs": [],
   "source": [
    "#Storing predicted result in a dictionary\n",
    "sentiment = {\"Positive\":0, \"Negative\":0}\n",
    "def get_sentiment():\n",
    "    for i in pipe.predict(product_review):\n",
    "            if i == 1:\n",
    "                sentiment[\"Positive\"]= sentiment[\"Positive\"]+1 \n",
    "            else:\n",
    "                sentiment[\"Negative\"]= sentiment[\"Negative\"]+1\n",
    "    print(sentiment)"
   ]
  },
  {
   "cell_type": "code",
   "execution_count": 38,
   "metadata": {},
   "outputs": [
    {
     "name": "stdout",
     "output_type": "stream",
     "text": [
      "{'Negative': 2, 'Positive': 8}\n"
     ]
    }
   ],
   "source": [
    "get_sentiment()"
   ]
  },
  {
   "cell_type": "code",
   "execution_count": 40,
   "metadata": {},
   "outputs": [
    {
     "data": {
      "image/png": "[encoded data removed]",
      "text/plain": [
       "<Figure size 432x288 with 1 Axes>"
      ]
     },
     "metadata": {},
     "output_type": "display_data"
    }
   ],
   "source": [
    "from matplotlib import pyplot as plt\n",
    "slices = [sentiment[\"Positive\"],sentiment[\"Negative\"]]\n",
    "activities = ['Positive','Negative']\n",
    "cols = ['g','r']\n",
    "\n",
    "plt.pie(slices,\n",
    "        labels=activities,\n",
    "        colors=cols,\n",
    "        shadow= True,\n",
    "        autopct='%1.1f%%')\n",
    "\n",
    "plt.title('Sentiment Analysis of Reviews')\n",
    "plt.legend()\n",
    "plt.show()"
   ]
  },
  {
   "cell_type": "code",
   "execution_count": null,
   "metadata": {},
   "outputs": [],
   "source": []
  },
  {
   "cell_type": "code",
   "execution_count": null,
   "metadata": {},
   "outputs": [],
   "source": []
  },
  {
   "cell_type": "code",
   "execution_count": null,
   "metadata": {},
   "outputs": [],
   "source": []
  },
  {
   "cell_type": "code",
   "execution_count": null,
   "metadata": {},
   "outputs": [],
   "source": []
  },
  {
   "cell_type": "code",
   "execution_count": null,
   "metadata": {},
   "outputs": [],
   "source": []
  },
  {
   "cell_type": "code",
   "execution_count": null,
   "metadata": {},
   "outputs": [],
   "source": []
  },
  {
   "cell_type": "code",
   "execution_count": null,
   "metadata": {},
   "outputs": [],
   "source": []
  },
  {
   "cell_type": "code",
   "execution_count": null,
   "metadata": {},
   "outputs": [],
   "source": []
  }
 ],
 "metadata": {
  "kernelspec": {
   "display_name": "Python 3",
   "language": "python",
   "name": "python3"
  },
  "language_info": {
   "codemirror_mode": {
    "name": "ipython",
    "version": 3
   },
   "file_extension": ".py",
   "mimetype": "text/x-python",
   "name": "python",
   "nbconvert_exporter": "python",
   "pygments_lexer": "ipython3",
   "version": "3.6.5"
  },
  "widgets": {
   "state": {},
   "version": "1.1.2"
  }
 },
 "nbformat": 4,
 "nbformat_minor": 2
}
